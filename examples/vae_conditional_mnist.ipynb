{
 "cells": [
  {
   "cell_type": "code",
   "execution_count": null,
   "metadata": {
    "collapsed": true
   },
   "outputs": [],
   "source": [
    "%matplotlib inline\n",
    "import matplotlib.pyplot as plt\n",
    "import numpy as np\n",
    "from progressbar import ProgressBar\n",
    "import time,os\n",
    "from sklearn.utils import shuffle"
   ]
  },
  {
   "cell_type": "code",
   "execution_count": null,
   "metadata": {
    "collapsed": false
   },
   "outputs": [],
   "source": [
    "from lasagne.layers import InputLayer,DenseLayer,ConcatLayer\n",
    "from lasagne.nonlinearities import rectify,linear,softplus,sigmoid\n",
    "from lasagne.updates import adam"
   ]
  },
  {
   "cell_type": "code",
   "execution_count": null,
   "metadata": {
    "collapsed": false
   },
   "outputs": [],
   "source": [
    "from Tars.models import VAE\n",
    "from Tars.distributions import Gaussian,Bernoulli\n",
    "from Tars.load_data import mnist"
   ]
  },
  {
   "cell_type": "code",
   "execution_count": null,
   "metadata": {
    "collapsed": false
   },
   "outputs": [],
   "source": [
    "load,plot = mnist('../datasets/')\n",
    "train_x,train_y,_,_,test_x,test_y = load(test=True)\n",
    "\n",
    "x_dim       = 28*28\n",
    "z_dim       = 64\n",
    "y_dim       = 10\n",
    "\n",
    "activation = rectify\n",
    "seed = 1234\n",
    "np.random.seed(seed)\n",
    "\n",
    "n_epoch = 100\n",
    "n_batch = 100"
   ]
  },
  {
   "cell_type": "code",
   "execution_count": null,
   "metadata": {
    "collapsed": false
   },
   "outputs": [],
   "source": [
    "x = InputLayer((None,x_dim))\n",
    "y = InputLayer((None,y_dim))\n",
    "z = InputLayer((None,z_dim))\n",
    "\n",
    "q_0  = DenseLayer(ConcatLayer([x,y]),num_units=512,nonlinearity=activation)\n",
    "q_1  = DenseLayer(q_0,num_units=512,nonlinearity=activation)\n",
    "q_mean = DenseLayer(q_1,num_units=z_dim,nonlinearity=linear)\n",
    "q_var = DenseLayer(q_1,num_units=z_dim,nonlinearity=softplus)\n",
    "q = Gaussian(q_mean,q_var,given=[x,y]) #q(z|x,y)\n",
    "\n",
    "p_0  = DenseLayer(ConcatLayer([z,y]),num_units=512,nonlinearity=activation)\n",
    "p_1  = DenseLayer(p_0,num_units=512,nonlinearity=activation)\n",
    "p_mean = DenseLayer(p_1,num_units=x_dim,nonlinearity=sigmoid)\n",
    "p = Bernoulli(p_mean,given=[z,y]) #p(x|z,y)"
   ]
  },
  {
   "cell_type": "code",
   "execution_count": null,
   "metadata": {
    "collapsed": false
   },
   "outputs": [],
   "source": [
    "model = VAE(q,p,n_batch=n_batch,optimizer=adam)"
   ]
  },
  {
   "cell_type": "code",
   "execution_count": null,
   "metadata": {
    "collapsed": false
   },
   "outputs": [],
   "source": [
    "n_sample = 10\n",
    "choice   = np.random.choice(test_x.shape[0], n_batch)\n",
    "sample_x = test_x[choice]\n",
    "sample_y = test_y[choice]\n",
    "\n",
    "def plot_image(t,i):\n",
    "    fig = plt.figure(figsize=(12, 8))\n",
    "\n",
    "    y = np.eye(y_dim).astype(np.float32)\n",
    "    sample_z = q.np_sample_mean_given_x(sample_x,sample_y)\n",
    "    X = np.array([[np.array(p.np_sample_mean_given_x(_z[np.newaxis],\n",
    "                                                  y[_y][np.newaxis]))[0]\n",
    "                   for _z in sample_z[:n_sample]]\n",
    "                  for _y in range(y_dim)])\n",
    "\n",
    "    for j in range(n_sample):\n",
    "        ax = fig.add_subplot(10, 11, 11 * j + 1)\n",
    "        _X,cmap = plot(sample_x[j][np.newaxis])\n",
    "        ax.imshow(_X[0],cmap)\n",
    "        ax.axis('off')\n",
    "        for k in range(y_dim):\n",
    "            ax = fig.add_subplot(10, 11, 11 * j + k + 2)\n",
    "            _X,cmap = plot(X[k,j][np.newaxis])\n",
    "            ax.imshow(_X[0],cmap)\n",
    "            ax.axis('off')\n",
    "\n",
    "    plt.savefig('../plot/%d/%04d.jpg'%(t,i))\n",
    "    plt.close()"
   ]
  },
  {
   "cell_type": "code",
   "execution_count": null,
   "metadata": {
    "collapsed": false
   },
   "outputs": [],
   "source": [
    "t = int(time.time())\n",
    "os.mkdir('../plot/%d' % t)\n",
    "\n",
    "pbar = ProgressBar(maxval=n_epoch).start()\n",
    "for i in range(1, n_epoch+1):\n",
    "    shuffle(train_x, train_y)\n",
    "    lowerbound_train = model.train([train_x,train_y])\n",
    "\n",
    "    if (i%10 == 0) or (i == 1):\n",
    "        log_likelihood_test = model.test([test_x,test_y],k=10)\n",
    "        lw = \"epoch = %d, lower bound (train) = %lf (%lf %lf) lower bound (test) = %lf\\n\" %(i,sum(lowerbound_train),lowerbound_train[0],lowerbound_train[1],np.mean(log_likelihood_test))\n",
    "        f = open(\"../plot/%d/temp.txt\" % t, \"a\")\n",
    "        f.write(lw)\n",
    "        f.close()\n",
    "        print lw\n",
    "        plot_image(t,i)\n",
    "        \n",
    "    pbar.update(i)"
   ]
  },
  {
   "cell_type": "code",
   "execution_count": null,
   "metadata": {
    "collapsed": true
   },
   "outputs": [],
   "source": []
  }
 ],
 "metadata": {
  "kernelspec": {
   "display_name": "Python 2",
   "language": "python",
   "name": "python2"
  },
  "language_info": {
   "codemirror_mode": {
    "name": "ipython",
    "version": 2
   },
   "file_extension": ".py",
   "mimetype": "text/x-python",
   "name": "python",
   "nbconvert_exporter": "python",
   "pygments_lexer": "ipython2",
   "version": "2.7.12"
  }
 },
 "nbformat": 4,
 "nbformat_minor": 0
}

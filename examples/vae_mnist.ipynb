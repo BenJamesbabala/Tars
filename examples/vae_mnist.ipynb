{
 "cells": [
  {
   "cell_type": "code",
   "execution_count": null,
   "metadata": {
    "collapsed": false
   },
   "outputs": [],
   "source": [
    "%matplotlib inline\n",
    "import matplotlib.pyplot as plt\n",
    "import numpy as np\n",
    "from progressbar import ProgressBar\n",
    "import time,os"
   ]
  },
  {
   "cell_type": "code",
   "execution_count": null,
   "metadata": {
    "collapsed": false
   },
   "outputs": [],
   "source": [
    "from lasagne.layers import InputLayer,DenseLayer\n",
    "from lasagne.nonlinearities import rectify,linear,softplus,sigmoid\n",
    "from lasagne.updates import adam"
   ]
  },
  {
   "cell_type": "code",
   "execution_count": null,
   "metadata": {
    "collapsed": false
   },
   "outputs": [],
   "source": [
    "from Tars.model import VAE\n",
    "from Tars.distribution import Gaussian,Bernoulli\n",
    "from Tars.load_data import mnist"
   ]
  },
  {
   "cell_type": "code",
   "execution_count": null,
   "metadata": {
    "collapsed": false
   },
   "outputs": [],
   "source": [
    "load,plot = mnist('../datasets/')\n",
    "train_x,_,_,_,test_x,_ = load(test=True)\n",
    "\n",
    "n_x       = 28*28\n",
    "n_z       = 64\n",
    "n_y       = 10\n",
    "\n",
    "activation = rectify\n",
    "seed = 1234\n",
    "np.random.seed(seed)\n",
    "\n",
    "n_epoch = 100\n",
    "n_batch = 100"
   ]
  },
  {
   "cell_type": "code",
   "execution_count": null,
   "metadata": {
    "collapsed": false
   },
   "outputs": [],
   "source": [
    "x = InputLayer((None,n_x))\n",
    "q_0  = DenseLayer(x,num_units=512,nonlinearity=activation)\n",
    "q_1  = DenseLayer(q_0,num_units=512,nonlinearity=activation)\n",
    "q_mean = DenseLayer(q_1,num_units=n_z,nonlinearity=linear)\n",
    "q_var = DenseLayer(q_1,num_units=n_z,nonlinearity=softplus)\n",
    "q = Gaussian(q_mean,q_var,given=[x]) #q(z|x)\n",
    "\n",
    "z = InputLayer((None,n_z))\n",
    "p_0  = DenseLayer(z,num_units=512,nonlinearity=activation)\n",
    "p_1  = DenseLayer(p_0,num_units=512,nonlinearity=activation)\n",
    "p_mean = DenseLayer(p_1,num_units=n_x,nonlinearity=sigmoid)\n",
    "p = Bernoulli(p_mean,given=[z]) #p(x|z)"
   ]
  },
  {
   "cell_type": "code",
   "execution_count": null,
   "metadata": {
    "collapsed": false
   },
   "outputs": [],
   "source": [
    "model = VAE(q,p,n_batch=n_batch,optimizer=adam,l=1)"
   ]
  },
  {
   "cell_type": "code",
   "execution_count": null,
   "metadata": {
    "collapsed": true
   },
   "outputs": [],
   "source": [
    "n_sample = 100\n",
    "sample_z  = np.random.standard_normal((n_batch, n_z)).astype(np.float32)\n",
    "\n",
    "def plot_image(t,i):\n",
    "    sample_x = p.np_sample_mean_given_x(sample_z)\n",
    "    fig = plt.figure(figsize=(10,10))\n",
    "    X,cmap = plot(sample_x[:n_sample])\n",
    "\n",
    "    for j,x in enumerate(X):\n",
    "            ax = fig.add_subplot(10, 10, j + 1)\n",
    "            ax.imshow(x,cmap)\n",
    "            ax.axis('off')\n",
    "\n",
    "    plt.savefig('../plot/%d/%04d.jpg'%(t,i))\n",
    "    plt.close()"
   ]
  },
  {
   "cell_type": "code",
   "execution_count": null,
   "metadata": {
    "collapsed": false
   },
   "outputs": [],
   "source": [
    "t = int(time.time())\n",
    "os.mkdir('../plot/%d' % t)\n",
    "\n",
    "pbar = ProgressBar(maxval=n_epoch).start()\n",
    "for i in range(1, n_epoch+1):\n",
    "    np.random.shuffle(train_x)\n",
    "    lowerbound_train = model.train([train_x])\n",
    "\n",
    "    if (i%10 == 0) or (i == 1):\n",
    "        log_likelihood_test = model.log_likelihood_test([test_x],k=10,mode='iw')\n",
    "        lw = \"epoch = %d, lower bound (train) = %lf (%lf %lf) lower bound (test) = %lf\\n\" %(i,sum(lowerbound_train),lowerbound_train[0],lowerbound_train[1],np.mean(log_likelihood_test))\n",
    "        f = open(\"../plot/%d/temp.txt\" % t, \"a\")\n",
    "        f.write(lw)\n",
    "        f.close()\n",
    "        print lw\n",
    "        plot_image(t,i)\n",
    "        \n",
    "    pbar.update(i)"
   ]
  },
  {
   "cell_type": "code",
   "execution_count": null,
   "metadata": {
    "collapsed": true
   },
   "outputs": [],
   "source": []
  }
 ],
 "metadata": {
  "kernelspec": {
   "display_name": "Python 2",
   "language": "python",
   "name": "python2"
  },
  "language_info": {
   "codemirror_mode": {
    "name": "ipython",
    "version": 2
   },
   "file_extension": ".py",
   "mimetype": "text/x-python",
   "name": "python",
   "nbconvert_exporter": "python",
   "pygments_lexer": "ipython2",
   "version": "2.7.12"
  }
 },
 "nbformat": 4,
 "nbformat_minor": 0
}

{
 "cells": [
  {
   "cell_type": "code",
   "execution_count": null,
   "metadata": {
    "collapsed": false
   },
   "outputs": [],
   "source": [
    "%matplotlib inline\n",
    "import matplotlib.pyplot as plt\n",
    "import numpy as np\n",
    "from progressbar import ProgressBar\n",
    "import time,os"
   ]
  },
  {
   "cell_type": "code",
   "execution_count": null,
   "metadata": {
    "collapsed": false
   },
   "outputs": [],
   "source": [
    "from lasagne.layers import InputLayer,DenseLayer,ReshapeLayer,NonlinearityLayer\n",
    "from lasagne.nonlinearities import rectify,linear,softplus,sigmoid,softmax,tanh\n",
    "from lasagne.updates import adam"
   ]
  },
  {
   "cell_type": "code",
   "execution_count": null,
   "metadata": {
    "collapsed": false
   },
   "outputs": [],
   "source": [
    "from Tars.model import VAE\n",
    "from Tars.distribution import Gaussian,Bernoulli,Categorical\n",
    "from Tars.load_data import mnist"
   ]
  },
  {
   "cell_type": "code",
   "execution_count": null,
   "metadata": {
    "collapsed": false
   },
   "outputs": [],
   "source": [
    "load,plot = mnist('../datasets/')\n",
    "train_x,_,_,_,test_x,_ = load(test=True)\n",
    "\n",
    "n_x       = 28*28\n",
    "n_z       = 64\n",
    "n_y       = 10\n",
    "K = 10\n",
    "N = 30\n",
    "\n",
    "activation = rectify\n",
    "rseed = 1234\n",
    "np.random.seed(rseed)\n",
    "\n",
    "n_epoch = 100\n",
    "n_batch = 100"
   ]
  },
  {
   "cell_type": "code",
   "execution_count": null,
   "metadata": {
    "collapsed": false
   },
   "outputs": [],
   "source": [
    "# Bernoulli\n",
    "x = InputLayer((None,n_x))\n",
    "q_0  = DenseLayer(x,num_units=512,nonlinearity=activation)\n",
    "q_1  = DenseLayer(q_0,num_units=512,nonlinearity=activation)\n",
    "q_mean = DenseLayer(q_1,num_units=K*N,nonlinearity=sigmoid)\n",
    "q = Bernoulli(q_mean,given=[x],temp=0.01) #q(z|x)\n",
    "\n",
    "\n",
    "z = InputLayer((None,K*N))\n",
    "p_0  = DenseLayer(z,num_units=512,nonlinearity=activation)\n",
    "p_1  = DenseLayer(p_0,num_units=512,nonlinearity=activation)\n",
    "p_mean = DenseLayer(p_1,num_units=n_x,nonlinearity=sigmoid)\n",
    "p = Bernoulli(p_mean,given=[z]) #p(x|z)"
   ]
  },
  {
   "cell_type": "code",
   "execution_count": null,
   "metadata": {
    "collapsed": false
   },
   "outputs": [],
   "source": [
    "# Categorical\n",
    "x = InputLayer((None,n_x))\n",
    "q_0  = DenseLayer(x,num_units=512,nonlinearity=activation)\n",
    "q_1  = DenseLayer(q_0,num_units=512,nonlinearity=activation)\n",
    "q_2 = DenseLayer(q_1,num_units=N*K,nonlinearity=linear)\n",
    "q_mean = NonlinearityLayer(ReshapeLayer(q_2,((-1,K))),nonlinearity=softmax)\n",
    "q = Categorical(q_mean,given=[x],temp=0.001,n_dim=N) #q(z|x)\n",
    "\n",
    "z = InputLayer((None,N*K))\n",
    "p_0  = DenseLayer(z,num_units=512,nonlinearity=activation)\n",
    "p_1  = DenseLayer(p_0,num_units=512,nonlinearity=activation)\n",
    "p_mean = DenseLayer(p_1,num_units=n_x,nonlinearity=sigmoid)\n",
    "p = Bernoulli(p_mean,given=[z]) #p(x|z)"
   ]
  },
  {
   "cell_type": "code",
   "execution_count": null,
   "metadata": {
    "collapsed": false
   },
   "outputs": [],
   "source": [
    "model = VAE(q, p, n_batch=n_batch, optimizer=adam)"
   ]
  },
  {
   "cell_type": "code",
   "execution_count": null,
   "metadata": {
    "collapsed": true
   },
   "outputs": [],
   "source": [
    "def plot_z(x,N,K,t,i):\n",
    "    plt.subplot(131)\n",
    "    X,cmap = plot(x[np.newaxis,:])\n",
    "    plt.imshow(X[0],cmap)\n",
    "    sample_z = q.np_sample_given_x(x[np.newaxis,:])\n",
    "    plt.axis('off')\n",
    "\n",
    "    plt.subplot(132)\n",
    "    plt.imshow(sample_z[0].reshape((N,K)), interpolation='nearest',cmap=\"gray\")\n",
    "    plt.axis('off')\n",
    "    \n",
    "    sample_x = p.np_sample_mean_given_x(sample_z)\n",
    "    plt.subplot(133)\n",
    "    X,cmap = plot(sample_x[np.newaxis,:])\n",
    "    plt.imshow(X[0],cmap)\n",
    "    plt.axis('off')\n",
    "    \n",
    "    plt.savefig('../plot/%d/%04d_sample_z.jpg'%(t,i))\n",
    "    plt.close()"
   ]
  },
  {
   "cell_type": "code",
   "execution_count": null,
   "metadata": {
    "collapsed": false
   },
   "outputs": [],
   "source": [
    "t = int(time.time())\n",
    "os.mkdir('../plot/%d' % t)\n",
    "\n",
    "pbar = ProgressBar(maxval=n_epoch).start()\n",
    "for i in range(1, n_epoch+1):\n",
    "    np.random.shuffle(train_x)\n",
    "    lowerbound_train = model.train([train_x])\n",
    "\n",
    "    if (i%10 == 0) or (i == 1):\n",
    "        log_likelihood_test = model.test([test_x],k=10)\n",
    "        lw = \"epoch = %d, lower bound (train) = %lf (%lf %lf) lower bound (test) = %lf\\n\" %(i,sum(lowerbound_train),lowerbound_train[0],lowerbound_train[1],np.mean(log_likelihood_test))\n",
    "        f = open(\"../plot/%d/temp.txt\" % t, \"a\")\n",
    "        f.write(lw)\n",
    "        f.close()\n",
    "        print lw\n",
    "        plot_z(test_x[0],N,K,t,i)\n",
    "        \n",
    "    pbar.update(i)"
   ]
  },
  {
   "cell_type": "code",
   "execution_count": null,
   "metadata": {
    "collapsed": true
   },
   "outputs": [],
   "source": []
  }
 ],
 "metadata": {
  "kernelspec": {
   "display_name": "Python 2",
   "language": "python",
   "name": "python2"
  },
  "language_info": {
   "codemirror_mode": {
    "name": "ipython",
    "version": 2
   },
   "file_extension": ".py",
   "mimetype": "text/x-python",
   "name": "python",
   "nbconvert_exporter": "python",
   "pygments_lexer": "ipython2",
   "version": "2.7.12"
  }
 },
 "nbformat": 4,
 "nbformat_minor": 0
}
